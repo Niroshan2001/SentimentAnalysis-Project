{
 "cells": [
  {
   "cell_type": "code",
   "execution_count": null,
   "metadata": {},
   "outputs": [],
   "source": []
  },
  {
   "cell_type": "code",
   "execution_count": null,
   "metadata": {},
   "outputs": [],
   "source": [
    "import numpy as np"
   ]
  },
  {
   "cell_type": "code",
   "execution_count": 1,
   "metadata": {},
   "outputs": [
    {
     "data": {
      "text/plain": [
       "9"
      ]
     },
     "execution_count": 1,
     "metadata": {},
     "output_type": "execute_result"
    }
   ],
   "source": [
    "5+4\n"
   ]
  },
  {
   "cell_type": "code",
   "execution_count": 1,
   "metadata": {},
   "outputs": [],
   "source": [
    "import json\n",
    "with open('../artifacts/kaggle.json','r') as file:\n",
    "    data=json.load(file)"
   ]
  },
  {
   "cell_type": "code",
   "execution_count": 2,
   "metadata": {},
   "outputs": [
    {
     "data": {
      "text/plain": [
       "{'username': 'ganeshanniroshan', 'key': '12ac848249617c8bf2e8626e6383ceaf'}"
      ]
     },
     "execution_count": 2,
     "metadata": {},
     "output_type": "execute_result"
    }
   ],
   "source": [
    "data\n"
   ]
  },
  {
   "cell_type": "code",
   "execution_count": 3,
   "metadata": {},
   "outputs": [
    {
     "name": "stdout",
     "output_type": "stream",
     "text": [
      "Collecting kaggle\n",
      "  Downloading kaggle-1.5.16.tar.gz (83 kB)\n",
      "     ---------------------------------------- 0.0/83.6 kB ? eta -:--:--\n",
      "     ---- ----------------------------------- 10.2/83.6 kB ? eta -:--:--\n",
      "     ---- ----------------------------------- 10.2/83.6 kB ? eta -:--:--\n",
      "     ------------- ------------------------ 30.7/83.6 kB 217.9 kB/s eta 0:00:01\n",
      "     ------------- ------------------------ 30.7/83.6 kB 217.9 kB/s eta 0:00:01\n",
      "     ------------- ------------------------ 30.7/83.6 kB 217.9 kB/s eta 0:00:01\n",
      "     ------------- ------------------------ 30.7/83.6 kB 217.9 kB/s eta 0:00:01\n",
      "     ------------- ------------------------ 30.7/83.6 kB 217.9 kB/s eta 0:00:01\n",
      "     ------------- ------------------------ 30.7/83.6 kB 217.9 kB/s eta 0:00:01\n",
      "     ------------- ------------------------ 30.7/83.6 kB 217.9 kB/s eta 0:00:01\n",
      "     ------------- ------------------------ 30.7/83.6 kB 217.9 kB/s eta 0:00:01\n",
      "     ------------- ------------------------ 30.7/83.6 kB 217.9 kB/s eta 0:00:01\n",
      "     ------------- ------------------------ 30.7/83.6 kB 217.9 kB/s eta 0:00:01\n",
      "     ------------- ------------------------ 30.7/83.6 kB 217.9 kB/s eta 0:00:01\n",
      "     ------------- ------------------------ 30.7/83.6 kB 217.9 kB/s eta 0:00:01\n",
      "     -------------------------------------  81.9/83.6 kB 101.8 kB/s eta 0:00:01\n",
      "     -------------------------------------- 83.6/83.6 kB 102.0 kB/s eta 0:00:00\n",
      "  Installing build dependencies: started\n",
      "  Installing build dependencies: finished with status 'done'\n",
      "  Getting requirements to build wheel: started\n",
      "  Getting requirements to build wheel: finished with status 'done'\n",
      "  Preparing metadata (pyproject.toml): started\n",
      "  Preparing metadata (pyproject.toml): finished with status 'done'\n",
      "Requirement already satisfied: six>=1.10 in e:\\sentimentanalysis-project\\env\\lib\\site-packages (from kaggle) (1.16.0)\n",
      "Requirement already satisfied: certifi in e:\\sentimentanalysis-project\\env\\lib\\site-packages (from kaggle) (2023.11.17)\n",
      "Requirement already satisfied: python-dateutil in e:\\sentimentanalysis-project\\env\\lib\\site-packages (from kaggle) (2.8.2)\n",
      "Requirement already satisfied: requests in e:\\sentimentanalysis-project\\env\\lib\\site-packages (from kaggle) (2.31.0)\n",
      "Collecting tqdm (from kaggle)\n",
      "  Downloading tqdm-4.66.1-py3-none-any.whl.metadata (57 kB)\n",
      "     ---------------------------------------- 0.0/57.6 kB ? eta -:--:--\n",
      "     ------- -------------------------------- 10.2/57.6 kB ? eta -:--:--\n",
      "     -------------------- ----------------- 30.7/57.6 kB 435.7 kB/s eta 0:00:01\n",
      "     -------------------- ----------------- 30.7/57.6 kB 435.7 kB/s eta 0:00:01\n",
      "     --------------------------------- ---- 51.2/57.6 kB 262.6 kB/s eta 0:00:01\n",
      "     -------------------------------------- 57.6/57.6 kB 275.4 kB/s eta 0:00:00\n",
      "Collecting python-slugify (from kaggle)\n",
      "  Downloading python_slugify-8.0.1-py2.py3-none-any.whl (9.7 kB)\n",
      "Requirement already satisfied: urllib3 in e:\\sentimentanalysis-project\\env\\lib\\site-packages (from kaggle) (2.1.0)\n",
      "Requirement already satisfied: bleach in e:\\sentimentanalysis-project\\env\\lib\\site-packages (from kaggle) (6.1.0)\n",
      "Requirement already satisfied: webencodings in e:\\sentimentanalysis-project\\env\\lib\\site-packages (from bleach->kaggle) (0.5.1)\n",
      "Collecting text-unidecode>=1.3 (from python-slugify->kaggle)\n",
      "  Downloading text_unidecode-1.3-py2.py3-none-any.whl (78 kB)\n",
      "     ---------------------------------------- 0.0/78.2 kB ? eta -:--:--\n",
      "     ----- ---------------------------------- 10.2/78.2 kB ? eta -:--:--\n",
      "     -------------- ----------------------- 30.7/78.2 kB 325.1 kB/s eta 0:00:01\n",
      "     ------------------- ------------------ 41.0/78.2 kB 279.3 kB/s eta 0:00:01\n",
      "     ----------------------------- -------- 61.4/78.2 kB 297.7 kB/s eta 0:00:01\n",
      "     ---------------------------------- --- 71.7/78.2 kB 301.2 kB/s eta 0:00:01\n",
      "     -------------------------------------- 78.2/78.2 kB 289.0 kB/s eta 0:00:00\n",
      "Requirement already satisfied: charset-normalizer<4,>=2 in e:\\sentimentanalysis-project\\env\\lib\\site-packages (from requests->kaggle) (3.3.2)\n",
      "Requirement already satisfied: idna<4,>=2.5 in e:\\sentimentanalysis-project\\env\\lib\\site-packages (from requests->kaggle) (3.6)\n",
      "Requirement already satisfied: colorama in e:\\sentimentanalysis-project\\env\\lib\\site-packages (from tqdm->kaggle) (0.4.6)\n",
      "Downloading tqdm-4.66.1-py3-none-any.whl (78 kB)\n",
      "   ---------------------------------------- 0.0/78.3 kB ? eta -:--:--\n",
      "   -------------------- ------------------- 41.0/78.3 kB 653.6 kB/s eta 0:00:01\n",
      "   -------------------- ------------------- 41.0/78.3 kB 653.6 kB/s eta 0:00:01\n",
      "   -------------------- ------------------- 41.0/78.3 kB 653.6 kB/s eta 0:00:01\n",
      "   ------------------------------- -------- 61.4/78.3 kB 272.3 kB/s eta 0:00:01\n",
      "   ---------------------------------------- 78.3/78.3 kB 310.6 kB/s eta 0:00:00\n",
      "Building wheels for collected packages: kaggle\n",
      "  Building wheel for kaggle (pyproject.toml): started\n",
      "  Building wheel for kaggle (pyproject.toml): finished with status 'done'\n",
      "  Created wheel for kaggle: filename=kaggle-1.5.16-py3-none-any.whl size=110693 sha256=f843eaa98f0d9844281396a43273d4f6d0886122aaf716fc25bf725d39093892\n",
      "  Stored in directory: c:\\users\\niroshan\\appdata\\local\\pip\\cache\\wheels\\6a\\2e\\62\\475f9443c6f7f73b3beb46e121e2d30f1fb77af8bc7ba7edd6\n",
      "Successfully built kaggle\n",
      "Installing collected packages: text-unidecode, tqdm, python-slugify, kaggle\n",
      "Successfully installed kaggle-1.5.16 python-slugify-8.0.1 text-unidecode-1.3 tqdm-4.66.1\n"
     ]
    }
   ],
   "source": [
    "!pip install kaggle\n"
   ]
  },
  {
   "cell_type": "code",
   "execution_count": 19,
   "metadata": {},
   "outputs": [],
   "source": [
    "import os\n",
    "os.environ['KAGGLE_USERNAME']=data['username']\n",
    "os.environ['KAGGLE_KEY']=data['key']"
   ]
  },
  {
   "cell_type": "code",
   "execution_count": 20,
   "metadata": {},
   "outputs": [],
   "source": [
    "from kaggle.api.kaggle_api_extended import KaggleApi\n",
    "api=KaggleApi()\n",
    "api.authenticate()\n"
   ]
  },
  {
   "cell_type": "code",
   "execution_count": 21,
   "metadata": {},
   "outputs": [],
   "source": [
    "api.dataset_download_files('dineshpiyasamara/sentiment-analysis-dataset',path='../artifacts/')"
   ]
  },
  {
   "cell_type": "code",
   "execution_count": 25,
   "metadata": {},
   "outputs": [],
   "source": [
    "import zipfile\n",
    "with zipfile.ZipFile('../artifacts/sentiment-analysis-dataset.zip','r')as zip_ref:\n",
    "    zip_ref.extractall('../artifacts/')"
   ]
  },
  {
   "cell_type": "code",
   "execution_count": null,
   "metadata": {},
   "outputs": [],
   "source": []
  }
 ],
 "metadata": {
  "kernelspec": {
   "display_name": "Python 3 (ipykernel)",
   "language": "python",
   "name": "python3"
  },
  "language_info": {
   "codemirror_mode": {
    "name": "ipython",
    "version": 3
   },
   "file_extension": ".py",
   "mimetype": "text/x-python",
   "name": "python",
   "nbconvert_exporter": "python",
   "pygments_lexer": "ipython3",
   "version": "3.12.0"
  }
 },
 "nbformat": 4,
 "nbformat_minor": 4
}
